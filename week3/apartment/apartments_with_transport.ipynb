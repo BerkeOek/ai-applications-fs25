{
 "cells": [
  {
   "cell_type": "code",
   "execution_count": 1,
   "metadata": {},
   "outputs": [
    {
     "name": "stdout",
     "output_type": "stream",
     "text": [
      "✅ Saved: apartments_with_transport.csv with new transport feature\n"
     ]
    }
   ],
   "source": [
    "from geopy.distance import geodesic\n",
    "import pandas as pd\n",
    "\n",
    "# Load Updated Apartments Dataset\n",
    "apartments = pd.read_csv(\"apartments_data_enriched_lat_lon_combined.csv\")\n",
    "stations = pd.read_csv(\"zurich_transport_stations.csv\")  # Your public transport dataset\n",
    "\n",
    "# Ensure all required columns exist\n",
    "if \"lat\" not in apartments.columns or \"lon\" not in apartments.columns:\n",
    "    raise ValueError(\"🚨 The dataset must have 'latitude' and 'longitude' columns.\")\n",
    "\n",
    "def nearest_station(lat, lon):\n",
    "    \"\"\"Finds the nearest transport station and its distance\"\"\"\n",
    "    min_distance = float(\"inf\")\n",
    "    nearest_station_name = \"\"\n",
    "\n",
    "    for _, station in stations.iterrows():\n",
    "        station_coords = (station[\"lat\"], station[\"lon\"])\n",
    "        distance = geodesic((lat, lon), station_coords).km\n",
    "        \n",
    "        if distance < min_distance:\n",
    "            min_distance = distance\n",
    "            nearest_station_name = station[\"name\"]\n",
    "\n",
    "    return min_distance, nearest_station_name\n",
    "\n",
    "# Apply function to each apartment\n",
    "apartments[[\"distance_to_transport\", \"nearest_station\"]] = apartments.apply(\n",
    "    lambda row: nearest_station(row[\"lat\"], row[\"lon\"]), axis=1, result_type=\"expand\"\n",
    ")\n",
    "\n",
    "# Save Updated Dataset\n",
    "apartments.to_csv(\"apartments_with_transport.csv\", index=False)\n",
    "print(\"✅ Saved: apartments_with_transport.csv with new transport feature\")"
   ]
  }
 ],
 "metadata": {
  "kernelspec": {
   "display_name": "Python 3",
   "language": "python",
   "name": "python3"
  },
  "language_info": {
   "codemirror_mode": {
    "name": "ipython",
    "version": 3
   },
   "file_extension": ".py",
   "mimetype": "text/x-python",
   "name": "python",
   "nbconvert_exporter": "python",
   "pygments_lexer": "ipython3",
   "version": "3.12.1"
  }
 },
 "nbformat": 4,
 "nbformat_minor": 2
}
