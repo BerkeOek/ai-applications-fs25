{
 "cells": [
  {
   "cell_type": "code",
   "execution_count": 1,
   "metadata": {},
   "outputs": [
    {
     "name": "stdout",
     "output_type": "stream",
     "text": [
      "✅ GeoJSON converted to CSV: zurich_transport_stations.csv\n"
     ]
    }
   ],
   "source": [
    "import json\n",
    "import pandas as pd\n",
    "\n",
    "# Load GeoJSON file\n",
    "geojson_path = \"export.geojson\"  # Replace with your filename\n",
    "with open(geojson_path, \"r\", encoding=\"utf-8\") as f:\n",
    "    data = json.load(f)\n",
    "\n",
    "# Extract relevant details (name, lat, lon)\n",
    "stations = []\n",
    "for feature in data[\"features\"]:\n",
    "    properties = feature[\"properties\"]\n",
    "    geometry = feature[\"geometry\"]\n",
    "\n",
    "    if geometry[\"type\"] == \"Point\":\n",
    "        lat, lon = geometry[\"coordinates\"][1], geometry[\"coordinates\"][0]\n",
    "        station_name = properties.get(\"name\", \"Unknown Station\")\n",
    "\n",
    "        stations.append({\"name\": station_name, \"lat\": lat, \"lon\": lon})\n",
    "\n",
    "# Convert to Pandas DataFrame and save as CSV\n",
    "stations_df = pd.DataFrame(stations)\n",
    "stations_df.to_csv(\"zurich_transport_stations.csv\", index=False)\n",
    "\n",
    "print(\"✅ GeoJSON converted to CSV: zurich_transport_stations.csv\")"
   ]
  }
 ],
 "metadata": {
  "kernelspec": {
   "display_name": "Python 3",
   "language": "python",
   "name": "python3"
  },
  "language_info": {
   "codemirror_mode": {
    "name": "ipython",
    "version": 3
   },
   "file_extension": ".py",
   "mimetype": "text/x-python",
   "name": "python",
   "nbconvert_exporter": "python",
   "pygments_lexer": "ipython3",
   "version": "3.12.1"
  }
 },
 "nbformat": 4,
 "nbformat_minor": 2
}
